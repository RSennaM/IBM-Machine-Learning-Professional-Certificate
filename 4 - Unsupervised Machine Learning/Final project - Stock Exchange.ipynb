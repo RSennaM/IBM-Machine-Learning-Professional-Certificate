{
 "cells": [
  {
   "cell_type": "markdown",
   "id": "89194dec-ecf0-4008-b1ad-41be75c39e75",
   "metadata": {},
   "source": [
    "## Summary"
   ]
  },
  {
   "cell_type": "markdown",
   "id": "b0975709-92db-49db-9b6e-3ca876627a09",
   "metadata": {},
   "source": [
    "The dataset consists of 1,781 entries and 79 attributes. It includes financial fundamentals for various companies, such as:\n",
    "* Accounts Payable\n",
    "* Accounts Receivable\n",
    "* Net Income\n",
    "* Total Revenue\n",
    "* Profit Margin"
   ]
  },
  {
   "cell_type": "markdown",
   "id": "944cf9e0-3f64-4e60-8b33-ef78db91d714",
   "metadata": {},
   "source": [
    "The primary objective of this analysis is to explore financial data using unsupervised learning techniques, focusing on clustering. By employing methods such as K-means and Agglomerative Clustering, the aim is to identify patterns and segment companies based on their financial attributes. These insights can help stakeholders, such as investors or financial analysts, make more informed decisions by revealing underlying trends in company performance and financial health."
   ]
  },
  {
   "cell_type": "code",
   "execution_count": 1,
   "id": "469569ad-6aa9-4161-a441-e35195355a6e",
   "metadata": {},
   "outputs": [],
   "source": [
    "import pandas as pd\n",
    "import numpy as np\n",
    "import seaborn as sns\n",
    "import matplotlib.pyplot as plt\n",
    "from sklearn.preprocessing import StandardScaler\n",
    "from sklearn.cluster import AgglomerativeClustering\n",
    "from sklearn.cluster import KMeans\n",
    "from scipy.cluster import hierarchy\n",
    "from sklearn.metrics import confusion_matrix\n",
    "\n",
    "# Mute the sklearn and IPython warnings\n",
    "import warnings\n",
    "warnings.filterwarnings('ignore', module='sklearn')\n",
    "pd.options.display.float_format = '{:.2f}'.format"
   ]
  },
  {
   "cell_type": "code",
   "execution_count": 2,
   "id": "1b41d08d-5799-48cd-9d02-4336086eed70",
   "metadata": {},
   "outputs": [
    {
     "data": {
      "text/html": [
       "<div>\n",
       "<style scoped>\n",
       "    .dataframe tbody tr th:only-of-type {\n",
       "        vertical-align: middle;\n",
       "    }\n",
       "\n",
       "    .dataframe tbody tr th {\n",
       "        vertical-align: top;\n",
       "    }\n",
       "\n",
       "    .dataframe thead th {\n",
       "        text-align: right;\n",
       "    }\n",
       "</style>\n",
       "<table border=\"1\" class=\"dataframe\">\n",
       "  <thead>\n",
       "    <tr style=\"text-align: right;\">\n",
       "      <th></th>\n",
       "      <th>Unnamed: 0</th>\n",
       "      <th>Ticker Symbol</th>\n",
       "      <th>Period Ending</th>\n",
       "      <th>Accounts Payable</th>\n",
       "      <th>Accounts Receivable</th>\n",
       "      <th>Add'l income/expense items</th>\n",
       "      <th>After Tax ROE</th>\n",
       "      <th>Capital Expenditures</th>\n",
       "      <th>Capital Surplus</th>\n",
       "      <th>Cash Ratio</th>\n",
       "      <th>...</th>\n",
       "      <th>Total Current Assets</th>\n",
       "      <th>Total Current Liabilities</th>\n",
       "      <th>Total Equity</th>\n",
       "      <th>Total Liabilities</th>\n",
       "      <th>Total Liabilities &amp; Equity</th>\n",
       "      <th>Total Revenue</th>\n",
       "      <th>Treasury Stock</th>\n",
       "      <th>For Year</th>\n",
       "      <th>Earnings Per Share</th>\n",
       "      <th>Estimated Shares Outstanding</th>\n",
       "    </tr>\n",
       "  </thead>\n",
       "  <tbody>\n",
       "    <tr>\n",
       "      <th>0</th>\n",
       "      <td>0</td>\n",
       "      <td>AAL</td>\n",
       "      <td>2012-12-31</td>\n",
       "      <td>3068000000.00</td>\n",
       "      <td>-222000000.00</td>\n",
       "      <td>-1961000000.00</td>\n",
       "      <td>23.00</td>\n",
       "      <td>-1888000000.00</td>\n",
       "      <td>4695000000.00</td>\n",
       "      <td>53.00</td>\n",
       "      <td>...</td>\n",
       "      <td>7072000000.00</td>\n",
       "      <td>9011000000.00</td>\n",
       "      <td>-7987000000.00</td>\n",
       "      <td>24891000000.00</td>\n",
       "      <td>16904000000.00</td>\n",
       "      <td>24855000000.00</td>\n",
       "      <td>-367000000.00</td>\n",
       "      <td>2012.00</td>\n",
       "      <td>-5.60</td>\n",
       "      <td>335000000.00</td>\n",
       "    </tr>\n",
       "    <tr>\n",
       "      <th>1</th>\n",
       "      <td>1</td>\n",
       "      <td>AAL</td>\n",
       "      <td>2013-12-31</td>\n",
       "      <td>4975000000.00</td>\n",
       "      <td>-93000000.00</td>\n",
       "      <td>-2723000000.00</td>\n",
       "      <td>67.00</td>\n",
       "      <td>-3114000000.00</td>\n",
       "      <td>10592000000.00</td>\n",
       "      <td>75.00</td>\n",
       "      <td>...</td>\n",
       "      <td>14323000000.00</td>\n",
       "      <td>13806000000.00</td>\n",
       "      <td>-2731000000.00</td>\n",
       "      <td>45009000000.00</td>\n",
       "      <td>42278000000.00</td>\n",
       "      <td>26743000000.00</td>\n",
       "      <td>0.00</td>\n",
       "      <td>2013.00</td>\n",
       "      <td>-11.25</td>\n",
       "      <td>163022222.22</td>\n",
       "    </tr>\n",
       "    <tr>\n",
       "      <th>2</th>\n",
       "      <td>2</td>\n",
       "      <td>AAL</td>\n",
       "      <td>2014-12-31</td>\n",
       "      <td>4668000000.00</td>\n",
       "      <td>-160000000.00</td>\n",
       "      <td>-150000000.00</td>\n",
       "      <td>143.00</td>\n",
       "      <td>-5311000000.00</td>\n",
       "      <td>15135000000.00</td>\n",
       "      <td>60.00</td>\n",
       "      <td>...</td>\n",
       "      <td>11750000000.00</td>\n",
       "      <td>13404000000.00</td>\n",
       "      <td>2021000000.00</td>\n",
       "      <td>41204000000.00</td>\n",
       "      <td>43225000000.00</td>\n",
       "      <td>42650000000.00</td>\n",
       "      <td>0.00</td>\n",
       "      <td>2014.00</td>\n",
       "      <td>4.02</td>\n",
       "      <td>716915422.89</td>\n",
       "    </tr>\n",
       "    <tr>\n",
       "      <th>3</th>\n",
       "      <td>3</td>\n",
       "      <td>AAL</td>\n",
       "      <td>2015-12-31</td>\n",
       "      <td>5102000000.00</td>\n",
       "      <td>352000000.00</td>\n",
       "      <td>-708000000.00</td>\n",
       "      <td>135.00</td>\n",
       "      <td>-6151000000.00</td>\n",
       "      <td>11591000000.00</td>\n",
       "      <td>51.00</td>\n",
       "      <td>...</td>\n",
       "      <td>9985000000.00</td>\n",
       "      <td>13605000000.00</td>\n",
       "      <td>5635000000.00</td>\n",
       "      <td>42780000000.00</td>\n",
       "      <td>48415000000.00</td>\n",
       "      <td>40990000000.00</td>\n",
       "      <td>0.00</td>\n",
       "      <td>2015.00</td>\n",
       "      <td>11.39</td>\n",
       "      <td>668129938.54</td>\n",
       "    </tr>\n",
       "    <tr>\n",
       "      <th>4</th>\n",
       "      <td>4</td>\n",
       "      <td>AAP</td>\n",
       "      <td>2012-12-29</td>\n",
       "      <td>2409453000.00</td>\n",
       "      <td>-89482000.00</td>\n",
       "      <td>600000.00</td>\n",
       "      <td>32.00</td>\n",
       "      <td>-271182000.00</td>\n",
       "      <td>520215000.00</td>\n",
       "      <td>23.00</td>\n",
       "      <td>...</td>\n",
       "      <td>3184200000.00</td>\n",
       "      <td>2559638000.00</td>\n",
       "      <td>1210694000.00</td>\n",
       "      <td>3403120000.00</td>\n",
       "      <td>4613814000.00</td>\n",
       "      <td>6205003000.00</td>\n",
       "      <td>-27095000.00</td>\n",
       "      <td>2012.00</td>\n",
       "      <td>5.29</td>\n",
       "      <td>73283553.88</td>\n",
       "    </tr>\n",
       "  </tbody>\n",
       "</table>\n",
       "<p>5 rows × 79 columns</p>\n",
       "</div>"
      ],
      "text/plain": [
       "   Unnamed: 0 Ticker Symbol Period Ending  Accounts Payable  \\\n",
       "0           0           AAL    2012-12-31     3068000000.00   \n",
       "1           1           AAL    2013-12-31     4975000000.00   \n",
       "2           2           AAL    2014-12-31     4668000000.00   \n",
       "3           3           AAL    2015-12-31     5102000000.00   \n",
       "4           4           AAP    2012-12-29     2409453000.00   \n",
       "\n",
       "   Accounts Receivable  Add'l income/expense items  After Tax ROE  \\\n",
       "0        -222000000.00              -1961000000.00          23.00   \n",
       "1         -93000000.00              -2723000000.00          67.00   \n",
       "2        -160000000.00               -150000000.00         143.00   \n",
       "3         352000000.00               -708000000.00         135.00   \n",
       "4         -89482000.00                   600000.00          32.00   \n",
       "\n",
       "   Capital Expenditures  Capital Surplus  Cash Ratio  ...  \\\n",
       "0        -1888000000.00    4695000000.00       53.00  ...   \n",
       "1        -3114000000.00   10592000000.00       75.00  ...   \n",
       "2        -5311000000.00   15135000000.00       60.00  ...   \n",
       "3        -6151000000.00   11591000000.00       51.00  ...   \n",
       "4         -271182000.00     520215000.00       23.00  ...   \n",
       "\n",
       "   Total Current Assets  Total Current Liabilities   Total Equity  \\\n",
       "0         7072000000.00              9011000000.00 -7987000000.00   \n",
       "1        14323000000.00             13806000000.00 -2731000000.00   \n",
       "2        11750000000.00             13404000000.00  2021000000.00   \n",
       "3         9985000000.00             13605000000.00  5635000000.00   \n",
       "4         3184200000.00              2559638000.00  1210694000.00   \n",
       "\n",
       "   Total Liabilities  Total Liabilities & Equity  Total Revenue  \\\n",
       "0     24891000000.00              16904000000.00 24855000000.00   \n",
       "1     45009000000.00              42278000000.00 26743000000.00   \n",
       "2     41204000000.00              43225000000.00 42650000000.00   \n",
       "3     42780000000.00              48415000000.00 40990000000.00   \n",
       "4      3403120000.00               4613814000.00  6205003000.00   \n",
       "\n",
       "   Treasury Stock  For Year  Earnings Per Share  Estimated Shares Outstanding  \n",
       "0   -367000000.00   2012.00               -5.60                  335000000.00  \n",
       "1            0.00   2013.00              -11.25                  163022222.22  \n",
       "2            0.00   2014.00                4.02                  716915422.89  \n",
       "3            0.00   2015.00               11.39                  668129938.54  \n",
       "4    -27095000.00   2012.00                5.29                   73283553.88  \n",
       "\n",
       "[5 rows x 79 columns]"
      ]
     },
     "execution_count": 2,
     "metadata": {},
     "output_type": "execute_result"
    }
   ],
   "source": [
    "data = pd.read_csv('fundamentals.csv', sep=',')\n",
    "data.head()"
   ]
  },
  {
   "cell_type": "code",
   "execution_count": 3,
   "id": "f12fd485-f3eb-4fa7-9ddd-c3ad9527dd6c",
   "metadata": {},
   "outputs": [
    {
     "data": {
      "text/plain": [
       "(1781, 79)"
      ]
     },
     "execution_count": 3,
     "metadata": {},
     "output_type": "execute_result"
    }
   ],
   "source": [
    "data.shape"
   ]
  },
  {
   "cell_type": "code",
   "execution_count": 4,
   "id": "4b8f18a5-04a0-4b22-ad88-23a0018b2700",
   "metadata": {},
   "outputs": [
    {
     "data": {
      "text/plain": [
       "Unnamed: 0                        0\n",
       "Ticker Symbol                     0\n",
       "Period Ending                     0\n",
       "Accounts Payable                  0\n",
       "Accounts Receivable               0\n",
       "                               ... \n",
       "Total Revenue                     0\n",
       "Treasury Stock                    0\n",
       "For Year                        173\n",
       "Earnings Per Share              219\n",
       "Estimated Shares Outstanding    219\n",
       "Length: 79, dtype: int64"
      ]
     },
     "execution_count": 4,
     "metadata": {},
     "output_type": "execute_result"
    }
   ],
   "source": [
    "data.isnull().sum()"
   ]
  },
  {
   "cell_type": "code",
   "execution_count": 5,
   "id": "afc4ff84-6859-4c05-8579-a528908d5600",
   "metadata": {},
   "outputs": [
    {
     "data": {
      "text/plain": [
       "float64    76\n",
       "object      2\n",
       "int64       1\n",
       "Name: count, dtype: int64"
      ]
     },
     "execution_count": 5,
     "metadata": {},
     "output_type": "execute_result"
    }
   ],
   "source": [
    "data.dtypes.value_counts()"
   ]
  },
  {
   "cell_type": "code",
   "execution_count": 6,
   "id": "402ce94a-8ed7-4952-a5d7-5502fb389a94",
   "metadata": {},
   "outputs": [
    {
     "data": {
      "text/plain": [
       "Unnamed: 0                        int64\n",
       "Ticker Symbol                    object\n",
       "Period Ending                    object\n",
       "Accounts Payable                float64\n",
       "Accounts Receivable             float64\n",
       "                                 ...   \n",
       "Total Revenue                   float64\n",
       "Treasury Stock                  float64\n",
       "For Year                        float64\n",
       "Earnings Per Share              float64\n",
       "Estimated Shares Outstanding    float64\n",
       "Length: 79, dtype: object"
      ]
     },
     "execution_count": 6,
     "metadata": {},
     "output_type": "execute_result"
    }
   ],
   "source": [
    "data.dtypes"
   ]
  },
  {
   "cell_type": "markdown",
   "id": "243751b6-cce4-4af1-bc21-9ba859cfa5db",
   "metadata": {},
   "source": [
    "## Data Exploration and Feature Engineering"
   ]
  },
  {
   "cell_type": "markdown",
   "id": "783e2f41-4508-48b8-8e5a-12141103141a",
   "metadata": {},
   "source": [
    "#### Data Cleaning:\n",
    "* Removed columns that were non-numeric or had null values.\n",
    "* Transformed the Net Income column into a binary target:\n",
    "1: Profit\n",
    "0: Loss\n",
    "\n",
    "#### Handling Skewness:\n",
    "* Identified columns with high skewness (e.g., Pre-Tax ROE, After Tax ROE).\n",
    "* Applied logarithmic transformations to normalize the distributions.\n",
    "\n",
    "#### Scaling:\n",
    "* Standardized all numerical columns using StandardScaler to ensure fair weightage during clustering."
   ]
  },
  {
   "cell_type": "markdown",
   "id": "bcff69b2-8fb6-4952-99f9-117a1895e2df",
   "metadata": {},
   "source": [
    "Drop all the columns with null values and columns that aren't float"
   ]
  },
  {
   "cell_type": "code",
   "execution_count": 7,
   "id": "2e39804f-42db-4952-a6c6-1e8c984d2200",
   "metadata": {},
   "outputs": [],
   "source": [
    "data.drop(['Unnamed: 0', 'Ticker Symbol', 'Period Ending'],axis = 1, inplace=True)\n",
    "data.dropna(axis=1,inplace=True)"
   ]
  },
  {
   "cell_type": "code",
   "execution_count": 8,
   "id": "efdd6e97-131a-422d-8480-9dcd5c8ce183",
   "metadata": {},
   "outputs": [
    {
     "data": {
      "text/plain": [
       "0      -1876000000.00\n",
       "1      -1834000000.00\n",
       "2       2882000000.00\n",
       "3       7610000000.00\n",
       "4        387670000.00\n",
       "            ...      \n",
       "1776     309471000.00\n",
       "1777     504000000.00\n",
       "1778     583000000.00\n",
       "1779     339000000.00\n",
       "1780     821000000.00\n",
       "Name: Net Income, Length: 1781, dtype: float64"
      ]
     },
     "execution_count": 8,
     "metadata": {},
     "output_type": "execute_result"
    }
   ],
   "source": [
    "data['Net Income']"
   ]
  },
  {
   "cell_type": "markdown",
   "id": "97bd899a-df62-468f-993f-5cf612f0d198",
   "metadata": {},
   "source": [
    "Setting the column 'Net Income' values to 1 if it the value was bigger than 0 (profit) and setting to 0 if the value was smaller thant 0 (loss)"
   ]
  },
  {
   "cell_type": "code",
   "execution_count": 9,
   "id": "0b004ed4-f74c-4178-956c-babf799b50c8",
   "metadata": {},
   "outputs": [],
   "source": [
    "data['Net Income'] = data['Net Income'].apply(lambda x : 1 if x > 0 else 0)"
   ]
  },
  {
   "cell_type": "code",
   "execution_count": 10,
   "id": "c51c4a9b-9f31-4ae1-9e5d-351fdb1d2665",
   "metadata": {},
   "outputs": [
    {
     "data": {
      "text/plain": [
       "Net Income\n",
       "1    1679\n",
       "0     102\n",
       "Name: count, dtype: int64"
      ]
     },
     "execution_count": 10,
     "metadata": {},
     "output_type": "execute_result"
    }
   ],
   "source": [
    "data['Net Income'].value_counts()"
   ]
  },
  {
   "cell_type": "markdown",
   "id": "8411cc3d-f24f-4cf9-9ca9-b562c45557cc",
   "metadata": {},
   "source": [
    "Identifing the columns with a high skewness and log transforming them"
   ]
  },
  {
   "cell_type": "code",
   "execution_count": 11,
   "id": "49c20140-b6a1-4a51-a5fb-ffa99fe706cf",
   "metadata": {},
   "outputs": [
    {
     "data": {
      "text/plain": [
       "Pre-Tax ROE                                           18.00\n",
       "After Tax ROE                                         15.98\n",
       "Other Operating Activities                            15.83\n",
       "Minority Interest                                     15.77\n",
       "Equity Earnings/Loss Unconsolidated Subsidiary        14.91\n",
       "Accounts Receivable                                   14.46\n",
       "Common Stocks                                         12.15\n",
       "Short-Term Debt / Current Portion of Long-Term Debt   11.88\n",
       "Non-Recurring Items                                   11.80\n",
       "Long-Term Debt                                        11.36\n",
       "Interest Expense                                      11.28\n",
       "Other Liabilities                                     11.07\n",
       "Short-Term Investments                                10.87\n",
       "Cash and Cash Equivalents                             10.11\n",
       "Intangible Assets                                     10.03\n",
       "Add'l income/expense items                             9.98\n",
       "Other Current Liabilities                              9.89\n",
       "Operating Margin                                       9.52\n",
       "Other Current Assets                                   9.46\n",
       "Retained Earnings                                      9.44\n",
       "Long-Term Investments                                  9.25\n",
       "Pre-Tax Margin                                         9.24\n",
       "Total Liabilities                                      9.01\n",
       "Other Assets                                           8.94\n",
       "Deferred Asset Charges                                 8.86\n",
       "Total Assets                                           8.82\n",
       "Total Liabilities & Equity                             8.82\n",
       "Profit Margin                                          8.79\n",
       "Other Operating Items                                  8.78\n",
       "Accounts Payable                                       8.73\n",
       "Misc. Stocks                                           8.56\n",
       "Inventory                                              7.91\n",
       "Income Tax                                             7.41\n",
       "Other Financing Activities                             6.97\n",
       "Fixed Assets                                           6.83\n",
       "Net Cash Flow-Operating                                6.82\n",
       "Deferred Liability Charges                             6.44\n",
       "Cost of Revenue                                        6.25\n",
       "Net Income-Cont. Operations                            6.20\n",
       "Earnings Before Tax                                    6.15\n",
       "Total Revenue                                          6.14\n",
       "Research and Development                               5.93\n",
       "Depreciation                                           5.83\n",
       "Total Equity                                           5.82\n",
       "Sales, General and Admin.                              5.75\n",
       "Net Receivables                                        5.75\n",
       "Operating Income                                       5.66\n",
       "Earnings Before Interest and Tax                       5.66\n",
       "Capital Surplus                                        5.57\n",
       "Net Income Applicable to Common Shareholders           5.53\n",
       "Gross Profit                                           5.17\n",
       "Goodwill                                               5.11\n",
       "Total Current Assets                                   4.90\n",
       "Total Current Liabilities                              4.67\n",
       "Net Cash Flow                                          2.80\n",
       "Liabilities                                            1.35\n",
       "dtype: float64"
      ]
     },
     "execution_count": 11,
     "metadata": {},
     "output_type": "execute_result"
    }
   ],
   "source": [
    "log_columns = data.skew().sort_values(ascending=False)\n",
    "log_columns = log_columns.loc[log_columns > 0.75]\n",
    "log_columns"
   ]
  },
  {
   "cell_type": "code",
   "execution_count": 12,
   "id": "0ce0a7b8-f842-4d8d-ab1a-40e9a0284d87",
   "metadata": {},
   "outputs": [
    {
     "name": "stderr",
     "output_type": "stream",
     "text": [
      "C:\\Users\\Rodrigo\\AppData\\Local\\Programs\\Python\\Python311\\Lib\\site-packages\\pandas\\core\\arraylike.py:399: RuntimeWarning: invalid value encountered in log1p\n",
      "  result = getattr(ufunc, method)(*inputs, **kwargs)\n"
     ]
    }
   ],
   "source": [
    "for col in log_columns.index:\n",
    "    data[col] = np.log1p(data[col])"
   ]
  },
  {
   "cell_type": "markdown",
   "id": "d9c5e7c5-15b5-41f4-9a3f-d66d7c00b74a",
   "metadata": {},
   "source": [
    "Scaling the data"
   ]
  },
  {
   "cell_type": "code",
   "execution_count": 13,
   "id": "928add8a-c622-4628-bd9a-7c47d697e29f",
   "metadata": {},
   "outputs": [
    {
     "data": {
      "text/plain": [
       "Accounts Payable                 0\n",
       "Accounts Receivable           1072\n",
       "Add'l income/expense items     509\n",
       "After Tax ROE                    0\n",
       "Capital Expenditures             0\n",
       "                              ... \n",
       "Total Equity                    52\n",
       "Total Liabilities                0\n",
       "Total Liabilities & Equity       0\n",
       "Total Revenue                    0\n",
       "Treasury Stock                   0\n",
       "Length: 70, dtype: int64"
      ]
     },
     "execution_count": 13,
     "metadata": {},
     "output_type": "execute_result"
    }
   ],
   "source": [
    "data.isnull().sum()"
   ]
  },
  {
   "cell_type": "markdown",
   "id": "b07de625-f5be-433e-8082-c97d70712fd5",
   "metadata": {},
   "source": [
    "Once again dropping columns with null values"
   ]
  },
  {
   "cell_type": "code",
   "execution_count": 14,
   "id": "edc54840-22f3-4ef6-a3a1-611e09c43842",
   "metadata": {},
   "outputs": [],
   "source": [
    "data.dropna(axis=1,inplace=True)"
   ]
  },
  {
   "cell_type": "code",
   "execution_count": 15,
   "id": "a165b80c-5eb8-44e9-9ad4-7a98819e5619",
   "metadata": {},
   "outputs": [
    {
     "data": {
      "text/html": [
       "<div>\n",
       "<style scoped>\n",
       "    .dataframe tbody tr th:only-of-type {\n",
       "        vertical-align: middle;\n",
       "    }\n",
       "\n",
       "    .dataframe tbody tr th {\n",
       "        vertical-align: top;\n",
       "    }\n",
       "\n",
       "    .dataframe thead th {\n",
       "        text-align: right;\n",
       "    }\n",
       "</style>\n",
       "<table border=\"1\" class=\"dataframe\">\n",
       "  <thead>\n",
       "    <tr style=\"text-align: right;\">\n",
       "      <th></th>\n",
       "      <th>Accounts Payable</th>\n",
       "      <th>After Tax ROE</th>\n",
       "      <th>Capital Expenditures</th>\n",
       "      <th>Cash and Cash Equivalents</th>\n",
       "      <th>Changes in Inventories</th>\n",
       "      <th>Common Stocks</th>\n",
       "      <th>Cost of Revenue</th>\n",
       "      <th>Deferred Asset Charges</th>\n",
       "      <th>Deferred Liability Charges</th>\n",
       "      <th>Effect of Exchange Rate</th>\n",
       "      <th>...</th>\n",
       "      <th>Sale and Purchase of Stock</th>\n",
       "      <th>Short-Term Debt / Current Portion of Long-Term Debt</th>\n",
       "      <th>Short-Term Investments</th>\n",
       "      <th>Total Assets</th>\n",
       "      <th>Total Current Assets</th>\n",
       "      <th>Total Current Liabilities</th>\n",
       "      <th>Total Liabilities</th>\n",
       "      <th>Total Liabilities &amp; Equity</th>\n",
       "      <th>Total Revenue</th>\n",
       "      <th>Treasury Stock</th>\n",
       "    </tr>\n",
       "  </thead>\n",
       "  <tbody>\n",
       "    <tr>\n",
       "      <th>0</th>\n",
       "      <td>0.35</td>\n",
       "      <td>0.30</td>\n",
       "      <td>-0.21</td>\n",
       "      <td>0.24</td>\n",
       "      <td>0.17</td>\n",
       "      <td>0.53</td>\n",
       "      <td>0.42</td>\n",
       "      <td>-0.84</td>\n",
       "      <td>0.58</td>\n",
       "      <td>0.24</td>\n",
       "      <td>...</td>\n",
       "      <td>0.28</td>\n",
       "      <td>0.68</td>\n",
       "      <td>1.48</td>\n",
       "      <td>0.26</td>\n",
       "      <td>0.52</td>\n",
       "      <td>0.60</td>\n",
       "      <td>0.61</td>\n",
       "      <td>0.01</td>\n",
       "      <td>0.84</td>\n",
       "      <td>0.25</td>\n",
       "    </tr>\n",
       "    <tr>\n",
       "      <th>1</th>\n",
       "      <td>0.48</td>\n",
       "      <td>1.39</td>\n",
       "      <td>-0.63</td>\n",
       "      <td>0.51</td>\n",
       "      <td>0.17</td>\n",
       "      <td>-0.11</td>\n",
       "      <td>0.43</td>\n",
       "      <td>-0.84</td>\n",
       "      <td>0.73</td>\n",
       "      <td>0.24</td>\n",
       "      <td>...</td>\n",
       "      <td>0.28</td>\n",
       "      <td>0.68</td>\n",
       "      <td>1.57</td>\n",
       "      <td>0.70</td>\n",
       "      <td>0.60</td>\n",
       "      <td>0.65</td>\n",
       "      <td>1.00</td>\n",
       "      <td>0.70</td>\n",
       "      <td>0.90</td>\n",
       "      <td>0.28</td>\n",
       "    </tr>\n",
       "    <tr>\n",
       "      <th>2</th>\n",
       "      <td>0.47</td>\n",
       "      <td>2.17</td>\n",
       "      <td>-1.36</td>\n",
       "      <td>0.40</td>\n",
       "      <td>0.17</td>\n",
       "      <td>-0.04</td>\n",
       "      <td>0.49</td>\n",
       "      <td>-0.84</td>\n",
       "      <td>0.71</td>\n",
       "      <td>0.24</td>\n",
       "      <td>...</td>\n",
       "      <td>-0.10</td>\n",
       "      <td>0.70</td>\n",
       "      <td>1.54</td>\n",
       "      <td>0.71</td>\n",
       "      <td>0.58</td>\n",
       "      <td>0.65</td>\n",
       "      <td>0.94</td>\n",
       "      <td>0.71</td>\n",
       "      <td>1.28</td>\n",
       "      <td>0.28</td>\n",
       "    </tr>\n",
       "    <tr>\n",
       "      <th>3</th>\n",
       "      <td>0.49</td>\n",
       "      <td>2.11</td>\n",
       "      <td>-1.64</td>\n",
       "      <td>0.13</td>\n",
       "      <td>0.17</td>\n",
       "      <td>-0.07</td>\n",
       "      <td>0.43</td>\n",
       "      <td>1.41</td>\n",
       "      <td>0.69</td>\n",
       "      <td>0.24</td>\n",
       "      <td>...</td>\n",
       "      <td>-1.12</td>\n",
       "      <td>0.74</td>\n",
       "      <td>1.54</td>\n",
       "      <td>0.80</td>\n",
       "      <td>0.56</td>\n",
       "      <td>0.65</td>\n",
       "      <td>0.97</td>\n",
       "      <td>0.80</td>\n",
       "      <td>1.25</td>\n",
       "      <td>0.28</td>\n",
       "    </tr>\n",
       "    <tr>\n",
       "      <th>4</th>\n",
       "      <td>0.28</td>\n",
       "      <td>0.63</td>\n",
       "      <td>0.33</td>\n",
       "      <td>-0.20</td>\n",
       "      <td>-0.49</td>\n",
       "      <td>-1.41</td>\n",
       "      <td>0.20</td>\n",
       "      <td>-0.84</td>\n",
       "      <td>-1.43</td>\n",
       "      <td>0.24</td>\n",
       "      <td>...</td>\n",
       "      <td>0.27</td>\n",
       "      <td>-0.27</td>\n",
       "      <td>-0.77</td>\n",
       "      <td>-0.96</td>\n",
       "      <td>0.42</td>\n",
       "      <td>0.45</td>\n",
       "      <td>-0.72</td>\n",
       "      <td>-0.96</td>\n",
       "      <td>-0.28</td>\n",
       "      <td>0.28</td>\n",
       "    </tr>\n",
       "  </tbody>\n",
       "</table>\n",
       "<p>5 rows × 46 columns</p>\n",
       "</div>"
      ],
      "text/plain": [
       "   Accounts Payable  After Tax ROE  Capital Expenditures  \\\n",
       "0              0.35           0.30                 -0.21   \n",
       "1              0.48           1.39                 -0.63   \n",
       "2              0.47           2.17                 -1.36   \n",
       "3              0.49           2.11                 -1.64   \n",
       "4              0.28           0.63                  0.33   \n",
       "\n",
       "   Cash and Cash Equivalents  Changes in Inventories  Common Stocks  \\\n",
       "0                       0.24                    0.17           0.53   \n",
       "1                       0.51                    0.17          -0.11   \n",
       "2                       0.40                    0.17          -0.04   \n",
       "3                       0.13                    0.17          -0.07   \n",
       "4                      -0.20                   -0.49          -1.41   \n",
       "\n",
       "   Cost of Revenue  Deferred Asset Charges  Deferred Liability Charges  \\\n",
       "0             0.42                   -0.84                        0.58   \n",
       "1             0.43                   -0.84                        0.73   \n",
       "2             0.49                   -0.84                        0.71   \n",
       "3             0.43                    1.41                        0.69   \n",
       "4             0.20                   -0.84                       -1.43   \n",
       "\n",
       "   Effect of Exchange Rate  ...  Sale and Purchase of Stock  \\\n",
       "0                     0.24  ...                        0.28   \n",
       "1                     0.24  ...                        0.28   \n",
       "2                     0.24  ...                       -0.10   \n",
       "3                     0.24  ...                       -1.12   \n",
       "4                     0.24  ...                        0.27   \n",
       "\n",
       "   Short-Term Debt / Current Portion of Long-Term Debt  \\\n",
       "0                                               0.68     \n",
       "1                                               0.68     \n",
       "2                                               0.70     \n",
       "3                                               0.74     \n",
       "4                                              -0.27     \n",
       "\n",
       "   Short-Term Investments  Total Assets  Total Current Assets  \\\n",
       "0                    1.48          0.26                  0.52   \n",
       "1                    1.57          0.70                  0.60   \n",
       "2                    1.54          0.71                  0.58   \n",
       "3                    1.54          0.80                  0.56   \n",
       "4                   -0.77         -0.96                  0.42   \n",
       "\n",
       "   Total Current Liabilities  Total Liabilities  Total Liabilities & Equity  \\\n",
       "0                       0.60               0.61                        0.01   \n",
       "1                       0.65               1.00                        0.70   \n",
       "2                       0.65               0.94                        0.71   \n",
       "3                       0.65               0.97                        0.80   \n",
       "4                       0.45              -0.72                       -0.96   \n",
       "\n",
       "   Total Revenue  Treasury Stock  \n",
       "0           0.84            0.25  \n",
       "1           0.90            0.28  \n",
       "2           1.28            0.28  \n",
       "3           1.25            0.28  \n",
       "4          -0.28            0.28  \n",
       "\n",
       "[5 rows x 46 columns]"
      ]
     },
     "execution_count": 15,
     "metadata": {},
     "output_type": "execute_result"
    }
   ],
   "source": [
    "sc = StandardScaler()\n",
    "feature_columns = [x for x in data.columns if x not in 'Net Income']\n",
    "for col in feature_columns:\n",
    "    data[col] = sc.fit_transform(data[[col]])\n",
    "\n",
    "data.head()"
   ]
  },
  {
   "cell_type": "markdown",
   "id": "465b0a40-e658-41a3-a23a-618b0452b5df",
   "metadata": {},
   "source": [
    "## Train models"
   ]
  },
  {
   "cell_type": "markdown",
   "id": "c83dbd45-0047-4a47-825e-3eb6e44027c3",
   "metadata": {},
   "source": [
    "### K-means"
   ]
  },
  {
   "cell_type": "code",
   "execution_count": 16,
   "id": "e8ea9333-4855-4e2b-834c-f71a8cf2e4e9",
   "metadata": {},
   "outputs": [],
   "source": [
    "km = KMeans(n_clusters=2, random_state=42)\n",
    "km = km.fit(data[feature_columns])"
   ]
  },
  {
   "cell_type": "code",
   "execution_count": 17,
   "id": "c77214e5-5253-4fd4-a20a-2776d9060771",
   "metadata": {},
   "outputs": [],
   "source": [
    "data['kmeans'] = km.predict(data[feature_columns])"
   ]
  },
  {
   "cell_type": "code",
   "execution_count": 24,
   "id": "da827b23-ecbc-4f34-b4f6-0809086ff2e6",
   "metadata": {},
   "outputs": [
    {
     "data": {
      "image/png": "[encoded data removed]",
      "text/plain": [
       "<Figure size 600x500 with 2 Axes>"
      ]
     },
     "metadata": {},
     "output_type": "display_data"
    }
   ],
   "source": [
    "true_labels = data['Net Income']  # True labels (Net Income transformed to binary)\n",
    "predicted_labels = data['kmeans']  # Predicted labels from KMeans\n",
    "\n",
    "# Compute the confusion matrix\n",
    "cm = confusion_matrix(true_labels, predicted_labels)\n",
    "\n",
    "# Plot the confusion matrix using seaborn's heatmap\n",
    "plt.figure(figsize=(6, 5))\n",
    "sns.heatmap(cm, annot=True, fmt='d', cmap='Blues', xticklabels=['1', '0'], yticklabels=['0', '1'])\n",
    "plt.title('Confusion Matrix for KMeans Clustering')\n",
    "plt.xlabel('KMeans Prediction')\n",
    "plt.ylabel('Net Income')\n",
    "plt.show()"
   ]
  },
  {
   "cell_type": "markdown",
   "id": "659c6a06-50fc-4a18-8e04-54e60a1c4322",
   "metadata": {},
   "source": [
    "### Agglomerative Clustering linkage ward"
   ]
  },
  {
   "cell_type": "code",
   "execution_count": 19,
   "id": "903d40e8-9694-4734-afae-a8194db3390a",
   "metadata": {},
   "outputs": [],
   "source": [
    "agw = AgglomerativeClustering(n_clusters=2, linkage='ward', compute_full_tree=True)\n",
    "agw = agw.fit(data[feature_columns])\n",
    "data['agglom_ward'] = agw.fit_predict(data[feature_columns])"
   ]
  },
  {
   "cell_type": "code",
   "execution_count": 20,
   "id": "f6269d7b-504c-4582-ba33-14a323a40d53",
   "metadata": {},
   "outputs": [
    {
     "data": {
      "image/png": "[encoded data removed]",
      "text/plain": [
       "<Figure size 600x500 with 2 Axes>"
      ]
     },
     "metadata": {},
     "output_type": "display_data"
    }
   ],
   "source": [
    "true_labels = data['Net Income']  # True labels (Net Income transformed to binary)\n",
    "predicted_labels = data['agglom_ward']  # Predicted labels from KMeans\n",
    "\n",
    "# Compute the confusion matrix\n",
    "cm = confusion_matrix(true_labels, predicted_labels)\n",
    "\n",
    "# Plot the confusion matrix using seaborn's heatmap\n",
    "plt.figure(figsize=(6, 5))\n",
    "sns.heatmap(cm, annot=True, fmt='d', cmap='Blues', xticklabels=['0', '1'], yticklabels=['0', '1'])\n",
    "plt.title('Confusion Matrix for Agglomerative Clustering Ward')\n",
    "plt.xlabel('Agglomerative Prediction')\n",
    "plt.ylabel('Net Income')\n",
    "plt.show()"
   ]
  },
  {
   "cell_type": "markdown",
   "id": "7cca51a9-850e-48c6-8613-e82349999f58",
   "metadata": {},
   "source": [
    "### Agglomerative Clustering linkage complete"
   ]
  },
  {
   "cell_type": "code",
   "execution_count": 21,
   "id": "c90bdbb1-4312-4081-a80f-13e8a399d3f0",
   "metadata": {},
   "outputs": [],
   "source": [
    "agc = AgglomerativeClustering(n_clusters=2, linkage='complete', compute_full_tree=True)\n",
    "agc = agc.fit(data[feature_columns])\n",
    "data['agglom_complete'] = agc.fit_predict(data[feature_columns])"
   ]
  },
  {
   "cell_type": "code",
   "execution_count": 22,
   "id": "3ad396d9-8fd0-4819-b828-c375811649dd",
   "metadata": {},
   "outputs": [
    {
     "data": {
      "image/png": "[encoded data removed]",
      "text/plain": [
       "<Figure size 600x500 with 2 Axes>"
      ]
     },
     "metadata": {},
     "output_type": "display_data"
    }
   ],
   "source": [
    "true_labels = data['Net Income']  # True labels (Net Income transformed to binary)\n",
    "predicted_labels = data['agglom_complete']  # Predicted labels from KMeans\n",
    "\n",
    "# Compute the confusion matrix\n",
    "cm = confusion_matrix(true_labels, predicted_labels)\n",
    "\n",
    "# Plot the confusion matrix using seaborn's heatmap\n",
    "plt.figure(figsize=(6, 5))\n",
    "sns.heatmap(cm, annot=True, fmt='d', cmap='Blues', xticklabels=['0', '1'], yticklabels=['0', '1'])\n",
    "plt.title('Confusion Matrix for Agglomerative Clustering Complete')\n",
    "plt.xlabel('Agglomerative Prediction')\n",
    "plt.ylabel('Net Income')\n",
    "plt.show()"
   ]
  },
  {
   "cell_type": "markdown",
   "id": "31c21d68-d420-4f5d-9f42-3810defbae91",
   "metadata": {},
   "source": [
    "## Results"
   ]
  },
  {
   "cell_type": "markdown",
   "id": "e5b5a341-d951-4354-aedf-93962166f0f1",
   "metadata": {},
   "source": [
    "Based on the analysis, K-Means Clustering is recommended as the final model for this task. It offers:\n",
    "\n",
    "* Clear and interpretable cluster assignments.\n",
    "* Strong alignment with the binary classification of Net Income.\n",
    "* Computational efficiency compared to Agglomerative Clustering."
   ]
  },
  {
   "cell_type": "markdown",
   "id": "48c7376a-a49d-4262-8df3-7642ab7bc7b4",
   "metadata": {},
   "source": [
    "## Next Steps"
   ]
  },
  {
   "cell_type": "markdown",
   "id": "cffc52df-c011-48a3-9fe4-80803d241e36",
   "metadata": {},
   "source": [
    "Some possible next steps are:\n",
    "\n",
    "* Investigating other clustering methods like DBSCAN.\n",
    "* Using domain-specific data features to improve clustering quality.\n",
    "* Expanding the analysis with supervised learning if labels are acquired."
   ]
  }
 ],
 "metadata": {
  "kernelspec": {
   "display_name": "Python 3 (ipykernel)",
   "language": "python",
   "name": "python3"
  },
  "language_info": {
   "codemirror_mode": {
    "name": "ipython",
    "version": 3
   },
   "file_extension": ".py",
   "mimetype": "text/x-python",
   "name": "python",
   "nbconvert_exporter": "python",
   "pygments_lexer": "ipython3",
   "version": "3.11.5"
  }
 },
 "nbformat": 4,
 "nbformat_minor": 5
}
